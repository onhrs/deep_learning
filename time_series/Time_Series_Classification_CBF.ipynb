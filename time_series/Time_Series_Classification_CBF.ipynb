{
 "cells": [
  {
   "cell_type": "code",
   "execution_count": 1,
   "metadata": {},
   "outputs": [
    {
     "name": "stderr",
     "output_type": "stream",
     "text": [
      "Using TensorFlow backend.\n"
     ]
    }
   ],
   "source": [
    "import pandas as pd\n",
    "import csv\n",
    "\n",
    "import pickle\n",
    "\n",
    "import pandas as pd\n",
    "import numpy as np\n",
    "import datetime\n",
    "import math\n",
    "\n",
    "\n",
    "from sklearn.model_selection import train_test_split\n",
    "from keras.layers.wrappers import Bidirectional\n",
    "from keras.models import Sequential\n",
    "from keras.layers.core import Dense, Activation\n",
    "from keras.layers.recurrent import LSTM,GRU\n",
    "from keras.optimizers import Adam\n",
    "from keras.callbacks import EarlyStopping\n",
    "from sklearn.preprocessing import StandardScaler\n",
    "from keras.layers.core import Dropout\n",
    "from keras.layers.normalization import BatchNormalization\n",
    "from dentsu.preprocessor.sru import SRU\n",
    "\n",
    "from sklearn.preprocessing import StandardScaler"
   ]
  },
  {
   "cell_type": "code",
   "execution_count": 2,
   "metadata": {
    "collapsed": true
   },
   "outputs": [],
   "source": [
    "#http://timeseriesclassification.com/description.php?Dataset=CBF\n",
    "#上記のデータからダウンロード\n",
    "\n",
    "df_main=pd.read_csv(\"/dockervolume/ono/test_data/CBF/CBF_df.csv\",header=None)"
   ]
  },
  {
   "cell_type": "code",
   "execution_count": 3,
   "metadata": {
    "collapsed": true
   },
   "outputs": [],
   "source": [
    "df_main_target=df_main[128]\n",
    "del df_main[128]"
   ]
  },
  {
   "cell_type": "code",
   "execution_count": 4,
   "metadata": {
    "collapsed": true
   },
   "outputs": [],
   "source": [
    "\"\"\"\n",
    "正規化しなかった場合\n",
    "df_main_T_std=df_main.as_matrix().transpose()\n",
    "\n",
    "\"\"\"\n",
    "\n",
    "# 標準化\n",
    "sc = StandardScaler()\n",
    "df_main_T_std = sc.fit_transform(df_main.T)\n",
    "\n"
   ]
  },
  {
   "cell_type": "code",
   "execution_count": 5,
   "metadata": {
    "collapsed": true
   },
   "outputs": [],
   "source": [
    "\n",
    "X = np.array(df_main_T_std.T).reshape(len(df_main_T_std.T), 1, len(df_main_T_std))\n",
    "\n",
    "n_labels = 3               # 分類クラスの数\n",
    "target_vector = list(df_main_target-1)\n",
    "Y=np.eye(n_labels)[target_vector]\n",
    "\n",
    "X_train, X_validation, Y_train, Y_validation = \\\n",
    "    train_test_split(X, Y, test_size=0.4)"
   ]
  },
  {
   "cell_type": "code",
   "execution_count": 6,
   "metadata": {
    "collapsed": true
   },
   "outputs": [],
   "source": [
    "n_hidden = 100\n",
    "maxlen=len(X_train[0])\n",
    "n_in = len(X[0][0])  \n",
    "\n",
    "n_out = len(Y[0])  \n",
    "\n",
    "\n",
    "def weight_variable(shape, name=None):\n",
    "    return np.random.normal(scale=.01, size=shape)\n",
    "\n",
    "\n",
    "early_stopping = EarlyStopping(monitor='val_loss', patience=10, verbose=1)\n",
    "\n",
    "model = Sequential()\n",
    "\n",
    "\"\"\"\n",
    "model.add(Bidirectional(LSTM(n_hidden,\n",
    "               kernel_initializer=weight_variable,\n",
    "               input_shape=(maxlen, n_in))))\n",
    "\"\"\"\n",
    "\n",
    "model.add(Bidirectional(SRU(n_hidden),input_shape=(maxlen, n_in)))\n",
    "\n",
    "model.add(Dense(n_out, kernel_initializer=weight_variable))\n",
    "#model.add(Activation('linear'))\n",
    "model.add(Activation('softmax'))\n",
    "\n",
    "\n",
    "optimizer = Adam(lr=0.001, beta_1=0.9, beta_2=0.999)\n",
    "model.compile(loss='categorical_crossentropy',\n",
    "              optimizer=optimizer,\n",
    "             metrics=['accuracy'])"
   ]
  },
  {
   "cell_type": "code",
   "execution_count": 7,
   "metadata": {},
   "outputs": [
    {
     "name": "stdout",
     "output_type": "stream",
     "text": [
      "Train on 558 samples, validate on 372 samples\n",
      "Epoch 1/30\n",
      "558/558 [==============================] - 0s - loss: 0.8382 - acc: 0.6613 - val_loss: 0.5335 - val_acc: 0.8172\n",
      "Epoch 2/30\n",
      "558/558 [==============================] - 0s - loss: 0.4046 - acc: 0.8548 - val_loss: 0.2738 - val_acc: 0.9059\n",
      "Epoch 3/30\n",
      "558/558 [==============================] - 0s - loss: 0.1919 - acc: 0.9373 - val_loss: 0.1469 - val_acc: 0.9570\n",
      "Epoch 4/30\n",
      "558/558 [==============================] - 0s - loss: 0.1024 - acc: 0.9821 - val_loss: 0.0953 - val_acc: 0.9785\n",
      "Epoch 5/30\n",
      "558/558 [==============================] - 0s - loss: 0.0563 - acc: 0.9892 - val_loss: 0.0705 - val_acc: 0.9839\n",
      "Epoch 6/30\n",
      "558/558 [==============================] - 0s - loss: 0.0363 - acc: 0.9964 - val_loss: 0.0633 - val_acc: 0.9785\n",
      "Epoch 7/30\n",
      "558/558 [==============================] - 0s - loss: 0.0205 - acc: 1.0000 - val_loss: 0.0376 - val_acc: 0.9919\n",
      "Epoch 8/30\n",
      "558/558 [==============================] - 0s - loss: 0.0166 - acc: 1.0000 - val_loss: 0.0292 - val_acc: 0.9919\n",
      "Epoch 9/30\n",
      "558/558 [==============================] - 0s - loss: 0.0097 - acc: 1.0000 - val_loss: 0.0292 - val_acc: 0.9919\n",
      "Epoch 10/30\n",
      "558/558 [==============================] - 0s - loss: 0.0070 - acc: 1.0000 - val_loss: 0.0239 - val_acc: 0.9919\n",
      "Epoch 11/30\n",
      "558/558 [==============================] - 0s - loss: 0.0054 - acc: 1.0000 - val_loss: 0.0214 - val_acc: 0.9946\n",
      "Epoch 12/30\n",
      "558/558 [==============================] - 0s - loss: 0.0044 - acc: 1.0000 - val_loss: 0.0205 - val_acc: 0.9946\n",
      "Epoch 13/30\n",
      "558/558 [==============================] - 0s - loss: 0.0036 - acc: 1.0000 - val_loss: 0.0194 - val_acc: 0.9946\n",
      "Epoch 14/30\n",
      "558/558 [==============================] - 0s - loss: 0.0031 - acc: 1.0000 - val_loss: 0.0187 - val_acc: 0.9946\n",
      "Epoch 15/30\n",
      "558/558 [==============================] - 0s - loss: 0.0026 - acc: 1.0000 - val_loss: 0.0170 - val_acc: 0.9946\n",
      "Epoch 16/30\n",
      "558/558 [==============================] - 0s - loss: 0.0023 - acc: 1.0000 - val_loss: 0.0175 - val_acc: 0.9946\n",
      "Epoch 17/30\n",
      "558/558 [==============================] - 0s - loss: 0.0019 - acc: 1.0000 - val_loss: 0.0167 - val_acc: 0.9946\n",
      "Epoch 18/30\n",
      "558/558 [==============================] - 0s - loss: 0.0017 - acc: 1.0000 - val_loss: 0.0164 - val_acc: 0.9946\n",
      "Epoch 19/30\n",
      "558/558 [==============================] - 0s - loss: 0.0015 - acc: 1.0000 - val_loss: 0.0160 - val_acc: 0.9946\n",
      "Epoch 20/30\n",
      "558/558 [==============================] - 0s - loss: 0.0014 - acc: 1.0000 - val_loss: 0.0155 - val_acc: 0.9946\n",
      "Epoch 21/30\n",
      "558/558 [==============================] - 0s - loss: 0.0012 - acc: 1.0000 - val_loss: 0.0149 - val_acc: 0.9946\n",
      "Epoch 22/30\n",
      "558/558 [==============================] - 0s - loss: 0.0011 - acc: 1.0000 - val_loss: 0.0154 - val_acc: 0.9946\n",
      "Epoch 23/30\n",
      "558/558 [==============================] - 0s - loss: 0.0010 - acc: 1.0000 - val_loss: 0.0147 - val_acc: 0.9946\n",
      "Epoch 24/30\n",
      "558/558 [==============================] - 0s - loss: 9.1415e-04 - acc: 1.0000 - val_loss: 0.0143 - val_acc: 0.9946\n",
      "Epoch 25/30\n",
      "558/558 [==============================] - 0s - loss: 8.4368e-04 - acc: 1.0000 - val_loss: 0.0146 - val_acc: 0.9946\n",
      "Epoch 26/30\n",
      "558/558 [==============================] - 0s - loss: 7.7703e-04 - acc: 1.0000 - val_loss: 0.0147 - val_acc: 0.9946\n",
      "Epoch 27/30\n",
      "558/558 [==============================] - 0s - loss: 7.1370e-04 - acc: 1.0000 - val_loss: 0.0136 - val_acc: 0.9973\n",
      "Epoch 28/30\n",
      "558/558 [==============================] - 0s - loss: 6.5695e-04 - acc: 1.0000 - val_loss: 0.0138 - val_acc: 0.9946\n",
      "Epoch 29/30\n",
      "558/558 [==============================] - 0s - loss: 6.1104e-04 - acc: 1.0000 - val_loss: 0.0142 - val_acc: 0.9946\n",
      "Epoch 30/30\n",
      "558/558 [==============================] - 0s - loss: 5.7092e-04 - acc: 1.0000 - val_loss: 0.0132 - val_acc: 0.9946\n"
     ]
    }
   ],
   "source": [
    "\n",
    "'''\n",
    "モデル学習\n",
    "'''\n",
    "epochs = 30\n",
    "batch_size = 32\n",
    "\n",
    "hist=model.fit(X_train, Y_train,\n",
    "          batch_size=batch_size,\n",
    "          epochs=epochs,\n",
    "          validation_data=(X_validation, Y_validation))\n",
    "          #callbacks=[early_stopping])\n"
   ]
  },
  {
   "cell_type": "code",
   "execution_count": 8,
   "metadata": {},
   "outputs": [
    {
     "data": {
      "text/plain": [
       "<matplotlib.legend.Legend at 0x7fd8ac03c2e8>"
      ]
     },
     "execution_count": 8,
     "metadata": {},
     "output_type": "execute_result"
    },
    {
     "data": {
      "image/png": "[encoded data removed]",
      "text/plain": [
       "<matplotlib.figure.Figure at 0x7fd8cbc55208>"
      ]
     },
     "metadata": {},
     "output_type": "display_data"
    }
   ],
   "source": [
    "import matplotlib.pyplot as plt\n",
    "%matplotlib inline\n",
    "plt.plot(hist.history[\"loss\"],label=\"loss\")\n",
    "plt.plot(hist.history[\"val_loss\"],label=\"val_loss\")\n",
    "plt.xlabel(\"epoch\")\n",
    "plt.ylabel(\"loss\")\n",
    "plt.legend()"
   ]
  },
  {
   "cell_type": "code",
   "execution_count": 9,
   "metadata": {},
   "outputs": [
    {
     "data": {
      "text/plain": [
       "<matplotlib.legend.Legend at 0x7fd864271940>"
      ]
     },
     "execution_count": 9,
     "metadata": {},
     "output_type": "execute_result"
    },
    {
     "data": {
      "image/png": "[encoded data removed]",
      "text/plain": [
       "<matplotlib.figure.Figure at 0x7fd87800e5c0>"
      ]
     },
     "metadata": {},
     "output_type": "display_data"
    }
   ],
   "source": [
    "plt.plot(hist.history[\"acc\"],label=\"acc\")\n",
    "plt.plot(hist.history[\"val_acc\"],label=\"val_acc\")\n",
    "plt.xlabel(\"epoch\")\n",
    "plt.ylabel(\"acc\")\n",
    "plt.legend()"
   ]
  },
  {
   "cell_type": "markdown",
   "metadata": {
    "collapsed": true
   },
   "source": [
    "Best Algorithm:\tBOSS　\n",
    "\n",
    "Best Accuracy:\t99.81%"
   ]
  }
 ],
 "metadata": {
  "kernelspec": {
   "display_name": "Python 3",
   "language": "python",
   "name": "python3"
  },
  "language_info": {
   "codemirror_mode": {
    "name": "ipython",
    "version": 3
   },
   "file_extension": ".py",
   "mimetype": "text/x-python",
   "name": "python",
   "nbconvert_exporter": "python",
   "pygments_lexer": "ipython3",
   "version": "3.5.2"
  }
 },
 "nbformat": 4,
 "nbformat_minor": 2
}
